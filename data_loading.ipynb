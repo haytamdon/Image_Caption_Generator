{
 "cells": [
  {
   "cell_type": "code",
   "execution_count": null,
   "metadata": {},
   "outputs": [],
   "source": [
    "# Making the directory where to put the data\n",
    "!mkdir data_dir\n",
    "# Downloading the data\n",
    "!wget http://msvocds.blob.core.windows.net/annotations-1-0-3/captions_train-val2014.zip -P ./data_dir/\n",
    "!wget http://images.cocodataset.org/zips/train2014.zip -P ./data_dir/\n",
    "!wget http://images.cocodataset.org/zips/val2014.zip -P ./data_dir/\n",
    "# Extracting the data and annotations\n",
    "!unzip /data_dir/captions_train-val2014.zip -d ./data_dir/\n",
    "!rm /data_dir/captions_train-val2014.zip\n",
    "!unzip /data_dir/train2014.zip -d ./data_dir/\n",
    "!rm /data_dir/train2014.zip \n",
    "!unzip /data_dir/val2014.zip -d ./data_dir/ \n",
    "!rm /data_dir/val2014.zip"
   ]
  }
 ],
 "metadata": {
  "kernelspec": {
   "display_name": "Python 3.9.12 ('base')",
   "language": "python",
   "name": "python3"
  },
  "language_info": {
   "name": "python",
   "version": "3.9.12"
  },
  "orig_nbformat": 4,
  "vscode": {
   "interpreter": {
    "hash": "d6f9603d1be06c2d0189ab3c3cd2be93742383c73d65307cc5b0fe3e367bcc74"
   }
  }
 },
 "nbformat": 4,
 "nbformat_minor": 2
}
